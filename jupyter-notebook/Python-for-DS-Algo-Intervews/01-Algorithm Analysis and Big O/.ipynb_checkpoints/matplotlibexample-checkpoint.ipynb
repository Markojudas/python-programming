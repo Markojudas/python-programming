{
 "cells": [
  {
   "cell_type": "code",
   "execution_count": null,
   "id": "a8d99af5",
   "metadata": {},
   "outputs": [],
   "source": [
    "from math import log\n",
    "import matplotlib\n",
    "import numpy as np\n",
    "import matplotlib.pyplot as plt\n",
    "%matplotlib inline\n",
    "plt.style.use('bmh')\n",
    "\n",
    "# set up runtime comparisons\n",
    "n = np.linspace(1, 10, 1000)\n",
    "labels = [\n",
    "    'Constant',\n",
    "    'Logarithmic',\n",
    "    'Linear',\n",
    "    'Log Linear',\n",
    "    'Quadratic',\n",
    "    'Cubic',\n",
    "    'Exponential'\n",
    "]\n",
    "big_o = [np.ones(n.shape), np.log(n), n, n*np.log(n), n**2, n**3, 2**n]\n",
    "\n",
    "# Plot setup\n",
    "plt.figure(figsize=(12, 10))\n",
    "plt.ylim(0, 50)\n",
    "\n",
    "for i in range(len(big_o)):\n",
    "    plt.plot(n, big_o[i], label=labels[i])\n",
    "\n",
    "plt.legend(loc=0)\n",
    "plt.ylabel('Relative Runtime')\n",
    "plt.xlabel('n')\n"
   ]
  }
 ],
 "metadata": {
  "kernelspec": {
   "display_name": "Python 3 (ipykernel)",
   "language": "python",
   "name": "python3"
  },
  "language_info": {
   "codemirror_mode": {
    "name": "ipython",
    "version": 3
   },
   "file_extension": ".py",
   "mimetype": "text/x-python",
   "name": "python",
   "nbconvert_exporter": "python",
   "pygments_lexer": "ipython3",
   "version": "3.10.5"
  }
 },
 "nbformat": 4,
 "nbformat_minor": 5
}
