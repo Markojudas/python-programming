{
 "cells": [
  {
   "cell_type": "code",
   "execution_count": 3,
   "id": "527c90ed",
   "metadata": {},
   "outputs": [],
   "source": [
    "def sum1(n):\n",
    "    final_sum = 0\n",
    "    \n",
    "    for x in range(n+1):\n",
    "        final_sum += x\n",
    "        \n",
    "    return final_sum"
   ]
  },
  {
   "cell_type": "code",
   "execution_count": 4,
   "id": "4fd7a786",
   "metadata": {},
   "outputs": [
    {
     "data": {
      "text/plain": [
       "55"
      ]
     },
     "execution_count": 4,
     "metadata": {},
     "output_type": "execute_result"
    }
   ],
   "source": [
    "sum1(10)"
   ]
  },
  {
   "cell_type": "code",
   "execution_count": 7,
   "id": "b04e1b09",
   "metadata": {},
   "outputs": [],
   "source": [
    "def sum2(n):\n",
    "    return (n *(n + 1))//2"
   ]
  },
  {
   "cell_type": "code",
   "execution_count": 8,
   "id": "de9101fa",
   "metadata": {},
   "outputs": [
    {
     "data": {
      "text/plain": [
       "55"
      ]
     },
     "execution_count": 8,
     "metadata": {},
     "output_type": "execute_result"
    }
   ],
   "source": [
    "sum2(10)"
   ]
  },
  {
   "cell_type": "code",
   "execution_count": 10,
   "id": "012ecf48",
   "metadata": {},
   "outputs": [
    {
     "name": "stdout",
     "output_type": "stream",
     "text": [
      "6.92 µs ± 262 ns per loop (mean ± std. dev. of 7 runs, 100,000 loops each)\n"
     ]
    }
   ],
   "source": [
    "%timeit sum1(100)"
   ]
  },
  {
   "cell_type": "code",
   "execution_count": 11,
   "id": "8ddf612f",
   "metadata": {},
   "outputs": [
    {
     "name": "stdout",
     "output_type": "stream",
     "text": [
      "237 ns ± 19.2 ns per loop (mean ± std. dev. of 7 runs, 1,000,000 loops each)\n"
     ]
    }
   ],
   "source": [
    "%timeit sum2(100)"
   ]
  },
  {
   "cell_type": "code",
   "execution_count": null,
   "id": "81d0e043",
   "metadata": {},
   "outputs": [],
   "source": []
  }
 ],
 "metadata": {
  "kernelspec": {
   "display_name": "Python 3 (ipykernel)",
   "language": "python",
   "name": "python3"
  },
  "language_info": {
   "codemirror_mode": {
    "name": "ipython",
    "version": 3
   },
   "file_extension": ".py",
   "mimetype": "text/x-python",
   "name": "python",
   "nbconvert_exporter": "python",
   "pygments_lexer": "ipython3",
   "version": "3.10.5"
  }
 },
 "nbformat": 4,
 "nbformat_minor": 5
}
