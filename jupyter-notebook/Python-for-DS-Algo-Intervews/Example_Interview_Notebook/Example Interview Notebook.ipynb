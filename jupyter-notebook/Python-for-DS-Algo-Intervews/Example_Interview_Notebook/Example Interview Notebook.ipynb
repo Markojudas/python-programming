{
 "cells": [
  {
   "cell_type": "markdown",
   "id": "60bc0057",
   "metadata": {},
   "source": [
    "# Add Two Numbers\n",
    "\n",
    "## Problem\n",
    "\n",
    "Add two numbers together."
   ]
  },
  {
   "cell_type": "code",
   "execution_count": 10,
   "id": "becc6401",
   "metadata": {},
   "outputs": [],
   "source": [
    "def solution(num1, num2):\n",
    "    return num1 + num2"
   ]
  },
  {
   "cell_type": "code",
   "execution_count": 11,
   "id": "5808e75f",
   "metadata": {},
   "outputs": [
    {
     "name": "stdout",
     "output_type": "stream",
     "text": [
      "ALL TEST CASES PASSED\n"
     ]
    }
   ],
   "source": [
    "from nose.tools import assert_equal  # pip install nose\n",
    "\n",
    "class SolutionTest(object):\n",
    "    \n",
    "    def test(self, sol):\n",
    "        assert_equal(sol(2,2),4) #sol is the function, params are the two numbers and the expected output\n",
    "        assert_equal(sol(4,4), 8)\n",
    "        \n",
    "        print(\"ALL TEST CASES PASSED\")\n",
    "\n",
    "        \n",
    "# Run Tests\n",
    "\n",
    "t = SolutionTest() # creating object of SolutionTest\n",
    "\n",
    "t.test(solution) # calling the method passing the function to test\n",
    "        "
   ]
  },
  {
   "cell_type": "code",
   "execution_count": null,
   "id": "a7940127",
   "metadata": {},
   "outputs": [],
   "source": []
  }
 ],
 "metadata": {
  "kernelspec": {
   "display_name": "Python 3 (ipykernel)",
   "language": "python",
   "name": "python3"
  },
  "language_info": {
   "codemirror_mode": {
    "name": "ipython",
    "version": 3
   },
   "file_extension": ".py",
   "mimetype": "text/x-python",
   "name": "python",
   "nbconvert_exporter": "python",
   "pygments_lexer": "ipython3",
   "version": "3.10.5"
  }
 },
 "nbformat": 4,
 "nbformat_minor": 5
}
